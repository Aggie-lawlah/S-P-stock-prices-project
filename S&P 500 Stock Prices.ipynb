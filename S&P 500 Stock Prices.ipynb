{
 "cells": [
  {
   "cell_type": "code",
   "execution_count": 63,
   "id": "47f22467",
   "metadata": {},
   "outputs": [],
   "source": [
    "#import library packages\n",
    "import pandas as pd\n",
    "import numpy as np\n",
    "import matplotlib.pyplot as plt\n",
    "import seaborn as sns\n",
    "sns.set(style='whitegrid')"
   ]
  },
  {
   "cell_type": "code",
   "execution_count": 4,
   "id": "bdee3c6e",
   "metadata": {},
   "outputs": [],
   "source": [
    "# import csv files\n",
    "df= pd.read_csv(r\"C:\\Users\\HP\\Downloads\\S&P+500+Stock+Prices+2014-2017.csv\\S&P 500 Stock Prices 2014-2017.csv\")"
   ]
  },
  {
   "cell_type": "code",
   "execution_count": 48,
   "id": "f09a98c8",
   "metadata": {
    "scrolled": true
   },
   "outputs": [
    {
     "data": {
      "text/html": [
       "<div>\n",
       "<style scoped>\n",
       "    .dataframe tbody tr th:only-of-type {\n",
       "        vertical-align: middle;\n",
       "    }\n",
       "\n",
       "    .dataframe tbody tr th {\n",
       "        vertical-align: top;\n",
       "    }\n",
       "\n",
       "    .dataframe thead th {\n",
       "        text-align: right;\n",
       "    }\n",
       "</style>\n",
       "<table border=\"1\" class=\"dataframe\">\n",
       "  <thead>\n",
       "    <tr style=\"text-align: right;\">\n",
       "      <th></th>\n",
       "      <th>symbol</th>\n",
       "      <th>date</th>\n",
       "      <th>open</th>\n",
       "      <th>high</th>\n",
       "      <th>low</th>\n",
       "      <th>close</th>\n",
       "      <th>volume</th>\n",
       "      <th>day</th>\n",
       "    </tr>\n",
       "  </thead>\n",
       "  <tbody>\n",
       "    <tr>\n",
       "      <th>0</th>\n",
       "      <td>AAL</td>\n",
       "      <td>2014-01-02</td>\n",
       "      <td>25.0700</td>\n",
       "      <td>25.8200</td>\n",
       "      <td>25.0600</td>\n",
       "      <td>25.3600</td>\n",
       "      <td>8998943</td>\n",
       "      <td>Thursday</td>\n",
       "    </tr>\n",
       "    <tr>\n",
       "      <th>1</th>\n",
       "      <td>AAPL</td>\n",
       "      <td>2014-01-02</td>\n",
       "      <td>79.3828</td>\n",
       "      <td>79.5756</td>\n",
       "      <td>78.8601</td>\n",
       "      <td>79.0185</td>\n",
       "      <td>58791957</td>\n",
       "      <td>Thursday</td>\n",
       "    </tr>\n",
       "    <tr>\n",
       "      <th>2</th>\n",
       "      <td>AAP</td>\n",
       "      <td>2014-01-02</td>\n",
       "      <td>110.3600</td>\n",
       "      <td>111.8800</td>\n",
       "      <td>109.2900</td>\n",
       "      <td>109.7400</td>\n",
       "      <td>542711</td>\n",
       "      <td>Thursday</td>\n",
       "    </tr>\n",
       "    <tr>\n",
       "      <th>3</th>\n",
       "      <td>ABBV</td>\n",
       "      <td>2014-01-02</td>\n",
       "      <td>52.1200</td>\n",
       "      <td>52.3300</td>\n",
       "      <td>51.5200</td>\n",
       "      <td>51.9800</td>\n",
       "      <td>4569061</td>\n",
       "      <td>Thursday</td>\n",
       "    </tr>\n",
       "    <tr>\n",
       "      <th>4</th>\n",
       "      <td>ABC</td>\n",
       "      <td>2014-01-02</td>\n",
       "      <td>70.1100</td>\n",
       "      <td>70.2300</td>\n",
       "      <td>69.4800</td>\n",
       "      <td>69.8900</td>\n",
       "      <td>1148391</td>\n",
       "      <td>Thursday</td>\n",
       "    </tr>\n",
       "  </tbody>\n",
       "</table>\n",
       "</div>"
      ],
      "text/plain": [
       "  symbol       date      open      high       low     close    volume  \\\n",
       "0    AAL 2014-01-02   25.0700   25.8200   25.0600   25.3600   8998943   \n",
       "1   AAPL 2014-01-02   79.3828   79.5756   78.8601   79.0185  58791957   \n",
       "2    AAP 2014-01-02  110.3600  111.8800  109.2900  109.7400    542711   \n",
       "3   ABBV 2014-01-02   52.1200   52.3300   51.5200   51.9800   4569061   \n",
       "4    ABC 2014-01-02   70.1100   70.2300   69.4800   69.8900   1148391   \n",
       "\n",
       "        day  \n",
       "0  Thursday  \n",
       "1  Thursday  \n",
       "2  Thursday  \n",
       "3  Thursday  \n",
       "4  Thursday  "
      ]
     },
     "execution_count": 48,
     "metadata": {},
     "output_type": "execute_result"
    }
   ],
   "source": [
    "#preview datatsets df\n",
    "df.head(100)"
   ]
  },
  {
   "cell_type": "code",
   "execution_count": 21,
   "id": "91d32cf0",
   "metadata": {},
   "outputs": [
    {
     "name": "stdout",
     "output_type": "stream",
     "text": [
      "<class 'pandas.core.frame.DataFrame'>\n",
      "RangeIndex: 497472 entries, 0 to 497471\n",
      "Data columns (total 7 columns):\n",
      " #   Column  Non-Null Count   Dtype         \n",
      "---  ------  --------------   -----         \n",
      " 0   symbol  497472 non-null  object        \n",
      " 1   date    497472 non-null  datetime64[ns]\n",
      " 2   open    497472 non-null  float64       \n",
      " 3   high    497472 non-null  float64       \n",
      " 4   low     497472 non-null  float64       \n",
      " 5   close   497472 non-null  float64       \n",
      " 6   volume  497472 non-null  int64         \n",
      "dtypes: datetime64[ns](1), float64(4), int64(1), object(1)\n",
      "memory usage: 26.6+ MB\n"
     ]
    }
   ],
   "source": [
    "# Display the information of each columns and total rows\n",
    "df.info()"
   ]
  },
  {
   "cell_type": "code",
   "execution_count": 8,
   "id": "bfe8b4c7",
   "metadata": {},
   "outputs": [
    {
     "data": {
      "text/html": [
       "<div>\n",
       "<style scoped>\n",
       "    .dataframe tbody tr th:only-of-type {\n",
       "        vertical-align: middle;\n",
       "    }\n",
       "\n",
       "    .dataframe tbody tr th {\n",
       "        vertical-align: top;\n",
       "    }\n",
       "\n",
       "    .dataframe thead th {\n",
       "        text-align: right;\n",
       "    }\n",
       "</style>\n",
       "<table border=\"1\" class=\"dataframe\">\n",
       "  <thead>\n",
       "    <tr style=\"text-align: right;\">\n",
       "      <th></th>\n",
       "      <th>count</th>\n",
       "      <th>mean</th>\n",
       "      <th>std</th>\n",
       "      <th>min</th>\n",
       "      <th>25%</th>\n",
       "      <th>50%</th>\n",
       "      <th>75%</th>\n",
       "      <th>max</th>\n",
       "    </tr>\n",
       "  </thead>\n",
       "  <tbody>\n",
       "    <tr>\n",
       "      <th>open</th>\n",
       "      <td>497461.0</td>\n",
       "      <td>8.635227e+01</td>\n",
       "      <td>1.014712e+02</td>\n",
       "      <td>1.62</td>\n",
       "      <td>4.169000e+01</td>\n",
       "      <td>6.497000e+01</td>\n",
       "      <td>98.41</td>\n",
       "      <td>2.044000e+03</td>\n",
       "    </tr>\n",
       "    <tr>\n",
       "      <th>high</th>\n",
       "      <td>497464.0</td>\n",
       "      <td>8.713256e+01</td>\n",
       "      <td>1.023121e+02</td>\n",
       "      <td>1.69</td>\n",
       "      <td>4.209000e+01</td>\n",
       "      <td>6.556000e+01</td>\n",
       "      <td>99.23</td>\n",
       "      <td>2.067990e+03</td>\n",
       "    </tr>\n",
       "    <tr>\n",
       "      <th>low</th>\n",
       "      <td>497464.0</td>\n",
       "      <td>8.555247e+01</td>\n",
       "      <td>1.005710e+02</td>\n",
       "      <td>1.50</td>\n",
       "      <td>4.128000e+01</td>\n",
       "      <td>6.435370e+01</td>\n",
       "      <td>97.58</td>\n",
       "      <td>2.035110e+03</td>\n",
       "    </tr>\n",
       "    <tr>\n",
       "      <th>close</th>\n",
       "      <td>497472.0</td>\n",
       "      <td>8.636908e+01</td>\n",
       "      <td>1.014724e+02</td>\n",
       "      <td>1.59</td>\n",
       "      <td>4.170375e+01</td>\n",
       "      <td>6.498000e+01</td>\n",
       "      <td>98.42</td>\n",
       "      <td>2.049000e+03</td>\n",
       "    </tr>\n",
       "    <tr>\n",
       "      <th>volume</th>\n",
       "      <td>497472.0</td>\n",
       "      <td>4.253611e+06</td>\n",
       "      <td>8.232139e+06</td>\n",
       "      <td>0.00</td>\n",
       "      <td>1.080166e+06</td>\n",
       "      <td>2.084896e+06</td>\n",
       "      <td>4271928.00</td>\n",
       "      <td>6.182376e+08</td>\n",
       "    </tr>\n",
       "  </tbody>\n",
       "</table>\n",
       "</div>"
      ],
      "text/plain": [
       "           count          mean           std   min           25%  \\\n",
       "open    497461.0  8.635227e+01  1.014712e+02  1.62  4.169000e+01   \n",
       "high    497464.0  8.713256e+01  1.023121e+02  1.69  4.209000e+01   \n",
       "low     497464.0  8.555247e+01  1.005710e+02  1.50  4.128000e+01   \n",
       "close   497472.0  8.636908e+01  1.014724e+02  1.59  4.170375e+01   \n",
       "volume  497472.0  4.253611e+06  8.232139e+06  0.00  1.080166e+06   \n",
       "\n",
       "                 50%         75%           max  \n",
       "open    6.497000e+01       98.41  2.044000e+03  \n",
       "high    6.556000e+01       99.23  2.067990e+03  \n",
       "low     6.435370e+01       97.58  2.035110e+03  \n",
       "close   6.498000e+01       98.42  2.049000e+03  \n",
       "volume  2.084896e+06  4271928.00  6.182376e+08  "
      ]
     },
     "execution_count": 8,
     "metadata": {},
     "output_type": "execute_result"
    }
   ],
   "source": [
    "# quick overview of numerical tables\n",
    "df.describe().T"
   ]
  },
  {
   "cell_type": "code",
   "execution_count": 10,
   "id": "7f574c4e",
   "metadata": {},
   "outputs": [
    {
     "data": {
      "text/html": [
       "<div>\n",
       "<style scoped>\n",
       "    .dataframe tbody tr th:only-of-type {\n",
       "        vertical-align: middle;\n",
       "    }\n",
       "\n",
       "    .dataframe tbody tr th {\n",
       "        vertical-align: top;\n",
       "    }\n",
       "\n",
       "    .dataframe thead th {\n",
       "        text-align: right;\n",
       "    }\n",
       "</style>\n",
       "<table border=\"1\" class=\"dataframe\">\n",
       "  <thead>\n",
       "    <tr style=\"text-align: right;\">\n",
       "      <th></th>\n",
       "      <th>count</th>\n",
       "      <th>unique</th>\n",
       "      <th>top</th>\n",
       "      <th>freq</th>\n",
       "    </tr>\n",
       "  </thead>\n",
       "  <tbody>\n",
       "    <tr>\n",
       "      <th>symbol</th>\n",
       "      <td>497472</td>\n",
       "      <td>505</td>\n",
       "      <td>KIM</td>\n",
       "      <td>1007</td>\n",
       "    </tr>\n",
       "    <tr>\n",
       "      <th>date</th>\n",
       "      <td>497472</td>\n",
       "      <td>1007</td>\n",
       "      <td>2017-12-12</td>\n",
       "      <td>505</td>\n",
       "    </tr>\n",
       "  </tbody>\n",
       "</table>\n",
       "</div>"
      ],
      "text/plain": [
       "         count unique         top  freq\n",
       "symbol  497472    505         KIM  1007\n",
       "date    497472   1007  2017-12-12   505"
      ]
     },
     "execution_count": 10,
     "metadata": {},
     "output_type": "execute_result"
    }
   ],
   "source": [
    "#quick overview of non-numerical tables\n",
    "df.describe(include='O').T"
   ]
  },
  {
   "cell_type": "code",
   "execution_count": 15,
   "id": "213d9db0",
   "metadata": {
    "scrolled": true
   },
   "outputs": [
    {
     "data": {
      "text/plain": [
       "symbol    0\n",
       "date      0\n",
       "open      0\n",
       "high      0\n",
       "low       0\n",
       "close     0\n",
       "volume    0\n",
       "dtype: int64"
      ]
     },
     "execution_count": 15,
     "metadata": {},
     "output_type": "execute_result"
    }
   ],
   "source": [
    "#check for null values\n",
    "df.isna().sum()"
   ]
  },
  {
   "cell_type": "code",
   "execution_count": 12,
   "id": "93a6cb34",
   "metadata": {
    "scrolled": true
   },
   "outputs": [
    {
     "data": {
      "text/plain": [
       "0"
      ]
     },
     "execution_count": 12,
     "metadata": {},
     "output_type": "execute_result"
    }
   ],
   "source": [
    "#check for duplicates\n",
    "df.duplicated().sum()"
   ]
  },
  {
   "cell_type": "code",
   "execution_count": 13,
   "id": "79d02a8d",
   "metadata": {},
   "outputs": [
    {
     "data": {
      "text/plain": [
       "(497472, 7)"
      ]
     },
     "execution_count": 13,
     "metadata": {},
     "output_type": "execute_result"
    }
   ],
   "source": [
    "# number of rows and column\n",
    "df.shape"
   ]
  },
  {
   "cell_type": "code",
   "execution_count": 16,
   "id": "c2e5b99a",
   "metadata": {},
   "outputs": [],
   "source": [
    "#fill empty cells in each column with it mean()\n",
    "df['open'].fillna(df['open'].mean(), inplace=True)\n",
    "df['high'].fillna(df['high'].mean(), inplace=True)\n",
    "df['low'].fillna(df['low'].mean(), inplace=True)"
   ]
  },
  {
   "cell_type": "code",
   "execution_count": 47,
   "id": "c269346f",
   "metadata": {},
   "outputs": [],
   "source": [
    "df['day']= df['date'].dt.day_name()"
   ]
  },
  {
   "cell_type": "code",
   "execution_count": 19,
   "id": "ab74a932",
   "metadata": {},
   "outputs": [
    {
     "data": {
      "text/plain": [
       "array([[<AxesSubplot:title={'center':'open'}>,\n",
       "        <AxesSubplot:title={'center':'high'}>],\n",
       "       [<AxesSubplot:title={'center':'low'}>,\n",
       "        <AxesSubplot:title={'center':'close'}>],\n",
       "       [<AxesSubplot:title={'center':'volume'}>, <AxesSubplot:>]],\n",
       "      dtype=object)"
      ]
     },
     "execution_count": 19,
     "metadata": {},
     "output_type": "execute_result"
    },
    {
     "data": {
      "image/png": "[encoded data removed]",
      "text/plain": [
       "<Figure size 720x360 with 6 Axes>"
      ]
     },
     "metadata": {
      "needs_background": "light"
     },
     "output_type": "display_data"
    }
   ],
   "source": [
    "df.hist(figsize=(10,5), bins=20)"
   ]
  },
  {
   "cell_type": "code",
   "execution_count": 20,
   "id": "b35e61bc",
   "metadata": {},
   "outputs": [],
   "source": [
    "#convert date column to date time\n",
    "df['date']= pd.to_datetime(df['date'])"
   ]
  },
  {
   "cell_type": "markdown",
   "id": "273ac72f",
   "metadata": {},
   "source": [
    "## Questions\n",
    "\n",
    "- Which date in the sample saw the largest overall trading volume? On that date, which two stocks were traded most?\n",
    "\n",
    "- On which day of the week does volume tend to be highest? Lowest?\n",
    "\n",
    "- On which date did Amazon (AMZN) see the most volatility, measured by the difference between the high and low price?\n",
    "\n",
    "- If you could go back in time and invest in one stock from 1/2/2014 - 12/29/2017, which would you choose? What % gain would you realize?"
   ]
  },
  {
   "cell_type": "markdown",
   "id": "63085f58",
   "metadata": {},
   "source": [
    "### 1. Which date in the sample saw the largest overall trading volume? On that date, which two stocks were traded most?"
   ]
  },
  {
   "cell_type": "code",
   "execution_count": 29,
   "id": "43a2f555",
   "metadata": {},
   "outputs": [
    {
     "data": {
      "text/plain": [
       "date\n",
       "2015-08-24    4607945196\n",
       "2016-06-24    4367393052\n",
       "2015-12-18    4124454411\n",
       "2016-01-20    4087629753\n",
       "2016-11-10    4060601612\n",
       "                 ...    \n",
       "2014-12-26     894908944\n",
       "2015-11-27     791154818\n",
       "2014-12-24     750895627\n",
       "2015-12-24     736263173\n",
       "2017-11-24     728261080\n",
       "Name: volume, Length: 1007, dtype: int64"
      ]
     },
     "execution_count": 29,
     "metadata": {},
     "output_type": "execute_result"
    }
   ],
   "source": [
    "df.groupby('date')['volume'].sum().sort_values(ascending=False)"
   ]
  },
  {
   "cell_type": "code",
   "execution_count": 34,
   "id": "23ad0671",
   "metadata": {},
   "outputs": [],
   "source": [
    "highest_day = df[df['date']=='2015-08-24']"
   ]
  },
  {
   "cell_type": "code",
   "execution_count": 46,
   "id": "926fa6e9",
   "metadata": {},
   "outputs": [
    {
     "data": {
      "text/plain": [
       "symbol\n",
       "BAC     214649482\n",
       "AAPL    162206292\n",
       "Name: volume, dtype: int64"
      ]
     },
     "execution_count": 46,
     "metadata": {},
     "output_type": "execute_result"
    }
   ],
   "source": [
    "highest_day.groupby('symbol')['volume'].sum().sort_values(ascending=False).head(2)"
   ]
  },
  {
   "cell_type": "code",
   "execution_count": 45,
   "id": "82b86dbb",
   "metadata": {
    "scrolled": true
   },
   "outputs": [
    {
     "data": {
      "text/html": [
       "<div>\n",
       "<style scoped>\n",
       "    .dataframe tbody tr th:only-of-type {\n",
       "        vertical-align: middle;\n",
       "    }\n",
       "\n",
       "    .dataframe tbody tr th {\n",
       "        vertical-align: top;\n",
       "    }\n",
       "\n",
       "    .dataframe thead th {\n",
       "        text-align: right;\n",
       "    }\n",
       "</style>\n",
       "<table border=\"1\" class=\"dataframe\">\n",
       "  <thead>\n",
       "    <tr style=\"text-align: right;\">\n",
       "      <th></th>\n",
       "      <th>symbol</th>\n",
       "      <th>date</th>\n",
       "      <th>open</th>\n",
       "      <th>high</th>\n",
       "      <th>low</th>\n",
       "      <th>close</th>\n",
       "      <th>volume</th>\n",
       "    </tr>\n",
       "  </thead>\n",
       "  <tbody>\n",
       "    <tr>\n",
       "      <th>201266</th>\n",
       "      <td>BAC</td>\n",
       "      <td>2015-08-24</td>\n",
       "      <td>15.02</td>\n",
       "      <td>15.98</td>\n",
       "      <td>14.6</td>\n",
       "      <td>15.29</td>\n",
       "      <td>214649482</td>\n",
       "    </tr>\n",
       "    <tr>\n",
       "      <th>201209</th>\n",
       "      <td>AAPL</td>\n",
       "      <td>2015-08-24</td>\n",
       "      <td>94.87</td>\n",
       "      <td>108.80</td>\n",
       "      <td>92.0</td>\n",
       "      <td>103.12</td>\n",
       "      <td>162206292</td>\n",
       "    </tr>\n",
       "  </tbody>\n",
       "</table>\n",
       "</div>"
      ],
      "text/plain": [
       "       symbol       date   open    high   low   close     volume\n",
       "201266    BAC 2015-08-24  15.02   15.98  14.6   15.29  214649482\n",
       "201209   AAPL 2015-08-24  94.87  108.80  92.0  103.12  162206292"
      ]
     },
     "execution_count": 45,
     "metadata": {},
     "output_type": "execute_result"
    }
   ],
   "source": [
    "highest_day.nlargest(2,'volume')"
   ]
  },
  {
   "cell_type": "markdown",
   "id": "dff99244",
   "metadata": {},
   "source": [
    "### 2.On which day of the week does volume tend to be highest? Lowest?"
   ]
  },
  {
   "cell_type": "code",
   "execution_count": 49,
   "id": "15c01f40",
   "metadata": {},
   "outputs": [
    {
     "data": {
      "text/plain": [
       "day\n",
       "Wednesday    441712704746\n",
       "Friday       440535234884\n",
       "Thursday     431160024905\n",
       "Tuesday      428297652485\n",
       "Monday       374346703519\n",
       "Name: volume, dtype: int64"
      ]
     },
     "execution_count": 49,
     "metadata": {},
     "output_type": "execute_result"
    }
   ],
   "source": [
    "df.groupby('day')['volume'].sum().sort_values(ascending=False)"
   ]
  },
  {
   "cell_type": "code",
   "execution_count": 64,
   "id": "92e4257c",
   "metadata": {},
   "outputs": [
    {
     "data": {
      "text/plain": [
       "<AxesSubplot:title={'center':'Volume by Week Day'}, xlabel='Day Of The week', ylabel='Volume'>"
      ]
     },
     "execution_count": 64,
     "metadata": {},
     "output_type": "execute_result"
    },
    {
     "data": {
      "image/png": "[encoded data removed]",
      "text/plain": [
       "<Figure size 1080x360 with 1 Axes>"
      ]
     },
     "metadata": {},
     "output_type": "display_data"
    }
   ],
   "source": [
    "df.groupby('day')['volume'].sum().reindex(['Monday','Tuesday','Wednesday','Thursday','Friday']).plot(kind='line', xlabel='Day Of The week', ylabel='Volume',title='Volume by Week Day',color='Green', marker='*', linestyle='--', figsize= (15,5))"
   ]
  },
  {
   "cell_type": "markdown",
   "id": "70946930",
   "metadata": {},
   "source": [
    "### 3.On which date did Amazon (AMZN) see the most volatility, measured by the difference between the high and low price?"
   ]
  },
  {
   "cell_type": "code",
   "execution_count": 68,
   "id": "54c08e4e",
   "metadata": {},
   "outputs": [],
   "source": [
    "amazon= df[df['symbol']=='AMZN']"
   ]
  },
  {
   "cell_type": "code",
   "execution_count": 71,
   "id": "af0ed9e2",
   "metadata": {},
   "outputs": [
    {
     "data": {
      "text/html": [
       "<div>\n",
       "<style scoped>\n",
       "    .dataframe tbody tr th:only-of-type {\n",
       "        vertical-align: middle;\n",
       "    }\n",
       "\n",
       "    .dataframe tbody tr th {\n",
       "        vertical-align: top;\n",
       "    }\n",
       "\n",
       "    .dataframe thead th {\n",
       "        text-align: right;\n",
       "    }\n",
       "</style>\n",
       "<table border=\"1\" class=\"dataframe\">\n",
       "  <thead>\n",
       "    <tr style=\"text-align: right;\">\n",
       "      <th></th>\n",
       "      <th>symbol</th>\n",
       "      <th>date</th>\n",
       "      <th>open</th>\n",
       "      <th>high</th>\n",
       "      <th>low</th>\n",
       "      <th>close</th>\n",
       "      <th>volume</th>\n",
       "      <th>day</th>\n",
       "      <th>diffrence</th>\n",
       "    </tr>\n",
       "  </thead>\n",
       "  <tbody>\n",
       "    <tr>\n",
       "      <th>37</th>\n",
       "      <td>AMZN</td>\n",
       "      <td>2014-01-02</td>\n",
       "      <td>398.80</td>\n",
       "      <td>399.36</td>\n",
       "      <td>394.02</td>\n",
       "      <td>397.97</td>\n",
       "      <td>2140246</td>\n",
       "      <td>Thursday</td>\n",
       "      <td>5.34</td>\n",
       "    </tr>\n",
       "    <tr>\n",
       "      <th>520</th>\n",
       "      <td>AMZN</td>\n",
       "      <td>2014-01-03</td>\n",
       "      <td>398.29</td>\n",
       "      <td>402.71</td>\n",
       "      <td>396.22</td>\n",
       "      <td>396.44</td>\n",
       "      <td>2213512</td>\n",
       "      <td>Friday</td>\n",
       "      <td>6.49</td>\n",
       "    </tr>\n",
       "    <tr>\n",
       "      <th>1003</th>\n",
       "      <td>AMZN</td>\n",
       "      <td>2014-01-06</td>\n",
       "      <td>395.85</td>\n",
       "      <td>397.00</td>\n",
       "      <td>388.42</td>\n",
       "      <td>393.63</td>\n",
       "      <td>3172207</td>\n",
       "      <td>Monday</td>\n",
       "      <td>8.58</td>\n",
       "    </tr>\n",
       "    <tr>\n",
       "      <th>1486</th>\n",
       "      <td>AMZN</td>\n",
       "      <td>2014-01-07</td>\n",
       "      <td>395.04</td>\n",
       "      <td>398.47</td>\n",
       "      <td>394.29</td>\n",
       "      <td>398.03</td>\n",
       "      <td>1916684</td>\n",
       "      <td>Tuesday</td>\n",
       "      <td>4.18</td>\n",
       "    </tr>\n",
       "    <tr>\n",
       "      <th>1969</th>\n",
       "      <td>AMZN</td>\n",
       "      <td>2014-01-08</td>\n",
       "      <td>398.47</td>\n",
       "      <td>403.00</td>\n",
       "      <td>396.04</td>\n",
       "      <td>401.92</td>\n",
       "      <td>2316903</td>\n",
       "      <td>Wednesday</td>\n",
       "      <td>6.96</td>\n",
       "    </tr>\n",
       "    <tr>\n",
       "      <th>...</th>\n",
       "      <td>...</td>\n",
       "      <td>...</td>\n",
       "      <td>...</td>\n",
       "      <td>...</td>\n",
       "      <td>...</td>\n",
       "      <td>...</td>\n",
       "      <td>...</td>\n",
       "      <td>...</td>\n",
       "      <td>...</td>\n",
       "    </tr>\n",
       "    <tr>\n",
       "      <th>494984</th>\n",
       "      <td>AMZN</td>\n",
       "      <td>2017-12-22</td>\n",
       "      <td>1172.08</td>\n",
       "      <td>1174.62</td>\n",
       "      <td>1167.83</td>\n",
       "      <td>1168.36</td>\n",
       "      <td>1585054</td>\n",
       "      <td>Friday</td>\n",
       "      <td>6.79</td>\n",
       "    </tr>\n",
       "    <tr>\n",
       "      <th>495489</th>\n",
       "      <td>AMZN</td>\n",
       "      <td>2017-12-26</td>\n",
       "      <td>1168.36</td>\n",
       "      <td>1178.32</td>\n",
       "      <td>1160.55</td>\n",
       "      <td>1176.76</td>\n",
       "      <td>2005187</td>\n",
       "      <td>Tuesday</td>\n",
       "      <td>17.77</td>\n",
       "    </tr>\n",
       "    <tr>\n",
       "      <th>495994</th>\n",
       "      <td>AMZN</td>\n",
       "      <td>2017-12-27</td>\n",
       "      <td>1179.91</td>\n",
       "      <td>1187.29</td>\n",
       "      <td>1175.61</td>\n",
       "      <td>1182.26</td>\n",
       "      <td>1867208</td>\n",
       "      <td>Wednesday</td>\n",
       "      <td>11.68</td>\n",
       "    </tr>\n",
       "    <tr>\n",
       "      <th>496499</th>\n",
       "      <td>AMZN</td>\n",
       "      <td>2017-12-28</td>\n",
       "      <td>1189.00</td>\n",
       "      <td>1190.10</td>\n",
       "      <td>1184.38</td>\n",
       "      <td>1186.10</td>\n",
       "      <td>1841676</td>\n",
       "      <td>Thursday</td>\n",
       "      <td>5.72</td>\n",
       "    </tr>\n",
       "    <tr>\n",
       "      <th>497004</th>\n",
       "      <td>AMZN</td>\n",
       "      <td>2017-12-29</td>\n",
       "      <td>1182.35</td>\n",
       "      <td>1184.00</td>\n",
       "      <td>1167.50</td>\n",
       "      <td>1169.47</td>\n",
       "      <td>2688391</td>\n",
       "      <td>Friday</td>\n",
       "      <td>16.50</td>\n",
       "    </tr>\n",
       "  </tbody>\n",
       "</table>\n",
       "<p>1007 rows × 9 columns</p>\n",
       "</div>"
      ],
      "text/plain": [
       "       symbol       date     open     high      low    close   volume  \\\n",
       "37       AMZN 2014-01-02   398.80   399.36   394.02   397.97  2140246   \n",
       "520      AMZN 2014-01-03   398.29   402.71   396.22   396.44  2213512   \n",
       "1003     AMZN 2014-01-06   395.85   397.00   388.42   393.63  3172207   \n",
       "1486     AMZN 2014-01-07   395.04   398.47   394.29   398.03  1916684   \n",
       "1969     AMZN 2014-01-08   398.47   403.00   396.04   401.92  2316903   \n",
       "...       ...        ...      ...      ...      ...      ...      ...   \n",
       "494984   AMZN 2017-12-22  1172.08  1174.62  1167.83  1168.36  1585054   \n",
       "495489   AMZN 2017-12-26  1168.36  1178.32  1160.55  1176.76  2005187   \n",
       "495994   AMZN 2017-12-27  1179.91  1187.29  1175.61  1182.26  1867208   \n",
       "496499   AMZN 2017-12-28  1189.00  1190.10  1184.38  1186.10  1841676   \n",
       "497004   AMZN 2017-12-29  1182.35  1184.00  1167.50  1169.47  2688391   \n",
       "\n",
       "              day  diffrence  \n",
       "37       Thursday       5.34  \n",
       "520        Friday       6.49  \n",
       "1003       Monday       8.58  \n",
       "1486      Tuesday       4.18  \n",
       "1969    Wednesday       6.96  \n",
       "...           ...        ...  \n",
       "494984     Friday       6.79  \n",
       "495489    Tuesday      17.77  \n",
       "495994  Wednesday      11.68  \n",
       "496499   Thursday       5.72  \n",
       "497004     Friday      16.50  \n",
       "\n",
       "[1007 rows x 9 columns]"
      ]
     },
     "execution_count": 71,
     "metadata": {},
     "output_type": "execute_result"
    }
   ],
   "source": [
    "amazon"
   ]
  },
  {
   "cell_type": "code",
   "execution_count": 70,
   "id": "cfba3400",
   "metadata": {
    "scrolled": true
   },
   "outputs": [
    {
     "name": "stderr",
     "output_type": "stream",
     "text": [
      "<ipython-input-70-4c16a681764b>:1: SettingWithCopyWarning: \n",
      "A value is trying to be set on a copy of a slice from a DataFrame.\n",
      "Try using .loc[row_indexer,col_indexer] = value instead\n",
      "\n",
      "See the caveats in the documentation: https://pandas.pydata.org/pandas-docs/stable/user_guide/indexing.html#returning-a-view-versus-a-copy\n",
      "  amazon['diffrence']= amazon['high'] -amazon['low']\n"
     ]
    }
   ],
   "source": [
    "amazon['diffrence']= amazon['high'] -amazon['low']"
   ]
  },
  {
   "cell_type": "code",
   "execution_count": 80,
   "id": "9e0b60f1",
   "metadata": {
    "scrolled": true
   },
   "outputs": [
    {
     "data": {
      "text/plain": [
       "date\n",
       "2017-06-09    85.99\n",
       "2016-11-10    61.13\n",
       "2017-10-27    55.03\n",
       "2015-07-24    51.22\n",
       "2017-11-29    49.61\n",
       "              ...  \n",
       "2015-03-24     2.97\n",
       "2014-12-31     2.97\n",
       "2014-11-26     2.90\n",
       "2014-06-03     2.85\n",
       "2014-08-19     2.80\n",
       "Name: diffrence, Length: 1007, dtype: float64"
      ]
     },
     "execution_count": 80,
     "metadata": {},
     "output_type": "execute_result"
    }
   ],
   "source": [
    "amazon.groupby('date')['diffrence'].sum().sort_values(ascending=False)"
   ]
  },
  {
   "cell_type": "code",
   "execution_count": 78,
   "id": "53c888f8",
   "metadata": {
    "scrolled": true
   },
   "outputs": [
    {
     "data": {
      "text/html": [
       "<div>\n",
       "<style scoped>\n",
       "    .dataframe tbody tr th:only-of-type {\n",
       "        vertical-align: middle;\n",
       "    }\n",
       "\n",
       "    .dataframe tbody tr th {\n",
       "        vertical-align: top;\n",
       "    }\n",
       "\n",
       "    .dataframe thead th {\n",
       "        text-align: right;\n",
       "    }\n",
       "</style>\n",
       "<table border=\"1\" class=\"dataframe\">\n",
       "  <thead>\n",
       "    <tr style=\"text-align: right;\">\n",
       "      <th></th>\n",
       "      <th>symbol</th>\n",
       "      <th>date</th>\n",
       "      <th>open</th>\n",
       "      <th>high</th>\n",
       "      <th>low</th>\n",
       "      <th>close</th>\n",
       "      <th>volume</th>\n",
       "      <th>day</th>\n",
       "      <th>diffrence</th>\n",
       "    </tr>\n",
       "  </thead>\n",
       "  <tbody>\n",
       "    <tr>\n",
       "      <th>426023</th>\n",
       "      <td>AMZN</td>\n",
       "      <td>2017-06-09</td>\n",
       "      <td>1012.5</td>\n",
       "      <td>1012.99</td>\n",
       "      <td>927.0</td>\n",
       "      <td>978.31</td>\n",
       "      <td>7647692</td>\n",
       "      <td>Friday</td>\n",
       "      <td>85.99</td>\n",
       "    </tr>\n",
       "  </tbody>\n",
       "</table>\n",
       "</div>"
      ],
      "text/plain": [
       "       symbol       date    open     high    low   close   volume     day  \\\n",
       "426023   AMZN 2017-06-09  1012.5  1012.99  927.0  978.31  7647692  Friday   \n",
       "\n",
       "        diffrence  \n",
       "426023      85.99  "
      ]
     },
     "execution_count": 78,
     "metadata": {},
     "output_type": "execute_result"
    }
   ],
   "source": [
    "amazon.nlargest(1,'diffrence')"
   ]
  },
  {
   "cell_type": "code",
   "execution_count": 81,
   "id": "054e5b05",
   "metadata": {
    "scrolled": true
   },
   "outputs": [
    {
     "data": {
      "text/html": [
       "<div>\n",
       "<style scoped>\n",
       "    .dataframe tbody tr th:only-of-type {\n",
       "        vertical-align: middle;\n",
       "    }\n",
       "\n",
       "    .dataframe tbody tr th {\n",
       "        vertical-align: top;\n",
       "    }\n",
       "\n",
       "    .dataframe thead th {\n",
       "        text-align: right;\n",
       "    }\n",
       "</style>\n",
       "<table border=\"1\" class=\"dataframe\">\n",
       "  <thead>\n",
       "    <tr style=\"text-align: right;\">\n",
       "      <th></th>\n",
       "      <th>symbol</th>\n",
       "      <th>date</th>\n",
       "      <th>open</th>\n",
       "      <th>high</th>\n",
       "      <th>low</th>\n",
       "      <th>close</th>\n",
       "      <th>volume</th>\n",
       "      <th>day</th>\n",
       "      <th>diffrence</th>\n",
       "    </tr>\n",
       "  </thead>\n",
       "  <tbody>\n",
       "    <tr>\n",
       "      <th>76587</th>\n",
       "      <td>AMZN</td>\n",
       "      <td>2014-08-19</td>\n",
       "      <td>334.87</td>\n",
       "      <td>335.81</td>\n",
       "      <td>333.01</td>\n",
       "      <td>335.13</td>\n",
       "      <td>1714120</td>\n",
       "      <td>Tuesday</td>\n",
       "      <td>2.8</td>\n",
       "    </tr>\n",
       "  </tbody>\n",
       "</table>\n",
       "</div>"
      ],
      "text/plain": [
       "      symbol       date    open    high     low   close   volume      day  \\\n",
       "76587   AMZN 2014-08-19  334.87  335.81  333.01  335.13  1714120  Tuesday   \n",
       "\n",
       "       diffrence  \n",
       "76587        2.8  "
      ]
     },
     "execution_count": 81,
     "metadata": {},
     "output_type": "execute_result"
    }
   ],
   "source": [
    "amazon.nsmallest(1,'diffrence')"
   ]
  },
  {
   "cell_type": "markdown",
   "id": "ed033850",
   "metadata": {},
   "source": [
    "### 4. If you could go back in time and invest in one stock from 1/2/2014 - 12/29/2017, which would you choose? What % gain would you realize?"
   ]
  },
  {
   "cell_type": "code",
   "execution_count": 93,
   "id": "03a27c6b",
   "metadata": {},
   "outputs": [],
   "source": [
    "df_2014= df[df['date']=='2014-01-02']"
   ]
  },
  {
   "cell_type": "code",
   "execution_count": 101,
   "id": "94e6749e",
   "metadata": {},
   "outputs": [],
   "source": [
    "df_2017= df[df['date']=='2017-12-29']"
   ]
  },
  {
   "cell_type": "code",
   "execution_count": 98,
   "id": "78136b08",
   "metadata": {},
   "outputs": [],
   "source": [
    "df_open= df_2014.iloc[:,[0,2]]"
   ]
  },
  {
   "cell_type": "code",
   "execution_count": 102,
   "id": "48b9d64d",
   "metadata": {},
   "outputs": [],
   "source": [
    "df_close=df_2017.iloc[:,[0,5]]"
   ]
  },
  {
   "cell_type": "code",
   "execution_count": 100,
   "id": "7bfd26e4",
   "metadata": {},
   "outputs": [
    {
     "data": {
      "text/html": [
       "<div>\n",
       "<style scoped>\n",
       "    .dataframe tbody tr th:only-of-type {\n",
       "        vertical-align: middle;\n",
       "    }\n",
       "\n",
       "    .dataframe tbody tr th {\n",
       "        vertical-align: top;\n",
       "    }\n",
       "\n",
       "    .dataframe thead th {\n",
       "        text-align: right;\n",
       "    }\n",
       "</style>\n",
       "<table border=\"1\" class=\"dataframe\">\n",
       "  <thead>\n",
       "    <tr style=\"text-align: right;\">\n",
       "      <th></th>\n",
       "      <th>symbol</th>\n",
       "      <th>open</th>\n",
       "    </tr>\n",
       "  </thead>\n",
       "  <tbody>\n",
       "    <tr>\n",
       "      <th>0</th>\n",
       "      <td>AAL</td>\n",
       "      <td>25.0700</td>\n",
       "    </tr>\n",
       "    <tr>\n",
       "      <th>1</th>\n",
       "      <td>AAPL</td>\n",
       "      <td>79.3828</td>\n",
       "    </tr>\n",
       "    <tr>\n",
       "      <th>2</th>\n",
       "      <td>AAP</td>\n",
       "      <td>110.3600</td>\n",
       "    </tr>\n",
       "    <tr>\n",
       "      <th>3</th>\n",
       "      <td>ABBV</td>\n",
       "      <td>52.1200</td>\n",
       "    </tr>\n",
       "    <tr>\n",
       "      <th>4</th>\n",
       "      <td>ABC</td>\n",
       "      <td>70.1100</td>\n",
       "    </tr>\n",
       "    <tr>\n",
       "      <th>...</th>\n",
       "      <td>...</td>\n",
       "      <td>...</td>\n",
       "    </tr>\n",
       "    <tr>\n",
       "      <th>478</th>\n",
       "      <td>XYL</td>\n",
       "      <td>34.3900</td>\n",
       "    </tr>\n",
       "    <tr>\n",
       "      <th>479</th>\n",
       "      <td>YUM</td>\n",
       "      <td>75.3800</td>\n",
       "    </tr>\n",
       "    <tr>\n",
       "      <th>480</th>\n",
       "      <td>ZBH</td>\n",
       "      <td>92.6300</td>\n",
       "    </tr>\n",
       "    <tr>\n",
       "      <th>481</th>\n",
       "      <td>ZION</td>\n",
       "      <td>29.9000</td>\n",
       "    </tr>\n",
       "    <tr>\n",
       "      <th>482</th>\n",
       "      <td>ZTS</td>\n",
       "      <td>32.5300</td>\n",
       "    </tr>\n",
       "  </tbody>\n",
       "</table>\n",
       "<p>483 rows × 2 columns</p>\n",
       "</div>"
      ],
      "text/plain": [
       "    symbol      open\n",
       "0      AAL   25.0700\n",
       "1     AAPL   79.3828\n",
       "2      AAP  110.3600\n",
       "3     ABBV   52.1200\n",
       "4      ABC   70.1100\n",
       "..     ...       ...\n",
       "478    XYL   34.3900\n",
       "479    YUM   75.3800\n",
       "480    ZBH   92.6300\n",
       "481   ZION   29.9000\n",
       "482    ZTS   32.5300\n",
       "\n",
       "[483 rows x 2 columns]"
      ]
     },
     "execution_count": 100,
     "metadata": {},
     "output_type": "execute_result"
    }
   ],
   "source": [
    "df_open"
   ]
  },
  {
   "cell_type": "code",
   "execution_count": 103,
   "id": "695544c3",
   "metadata": {},
   "outputs": [
    {
     "data": {
      "text/html": [
       "<div>\n",
       "<style scoped>\n",
       "    .dataframe tbody tr th:only-of-type {\n",
       "        vertical-align: middle;\n",
       "    }\n",
       "\n",
       "    .dataframe tbody tr th {\n",
       "        vertical-align: top;\n",
       "    }\n",
       "\n",
       "    .dataframe thead th {\n",
       "        text-align: right;\n",
       "    }\n",
       "</style>\n",
       "<table border=\"1\" class=\"dataframe\">\n",
       "  <thead>\n",
       "    <tr style=\"text-align: right;\">\n",
       "      <th></th>\n",
       "      <th>symbol</th>\n",
       "      <th>close</th>\n",
       "    </tr>\n",
       "  </thead>\n",
       "  <tbody>\n",
       "    <tr>\n",
       "      <th>496967</th>\n",
       "      <td>AAL</td>\n",
       "      <td>52.03</td>\n",
       "    </tr>\n",
       "    <tr>\n",
       "      <th>496968</th>\n",
       "      <td>AAPL</td>\n",
       "      <td>169.23</td>\n",
       "    </tr>\n",
       "    <tr>\n",
       "      <th>496969</th>\n",
       "      <td>AAP</td>\n",
       "      <td>99.69</td>\n",
       "    </tr>\n",
       "    <tr>\n",
       "      <th>496970</th>\n",
       "      <td>ABBV</td>\n",
       "      <td>96.71</td>\n",
       "    </tr>\n",
       "    <tr>\n",
       "      <th>496971</th>\n",
       "      <td>ABC</td>\n",
       "      <td>91.82</td>\n",
       "    </tr>\n",
       "    <tr>\n",
       "      <th>...</th>\n",
       "      <td>...</td>\n",
       "      <td>...</td>\n",
       "    </tr>\n",
       "    <tr>\n",
       "      <th>497467</th>\n",
       "      <td>XYL</td>\n",
       "      <td>68.20</td>\n",
       "    </tr>\n",
       "    <tr>\n",
       "      <th>497468</th>\n",
       "      <td>YUM</td>\n",
       "      <td>81.61</td>\n",
       "    </tr>\n",
       "    <tr>\n",
       "      <th>497469</th>\n",
       "      <td>ZBH</td>\n",
       "      <td>120.67</td>\n",
       "    </tr>\n",
       "    <tr>\n",
       "      <th>497470</th>\n",
       "      <td>ZION</td>\n",
       "      <td>50.83</td>\n",
       "    </tr>\n",
       "    <tr>\n",
       "      <th>497471</th>\n",
       "      <td>ZTS</td>\n",
       "      <td>72.04</td>\n",
       "    </tr>\n",
       "  </tbody>\n",
       "</table>\n",
       "<p>505 rows × 2 columns</p>\n",
       "</div>"
      ],
      "text/plain": [
       "       symbol   close\n",
       "496967    AAL   52.03\n",
       "496968   AAPL  169.23\n",
       "496969    AAP   99.69\n",
       "496970   ABBV   96.71\n",
       "496971    ABC   91.82\n",
       "...       ...     ...\n",
       "497467    XYL   68.20\n",
       "497468    YUM   81.61\n",
       "497469    ZBH  120.67\n",
       "497470   ZION   50.83\n",
       "497471    ZTS   72.04\n",
       "\n",
       "[505 rows x 2 columns]"
      ]
     },
     "execution_count": 103,
     "metadata": {},
     "output_type": "execute_result"
    }
   ],
   "source": [
    "df_close"
   ]
  },
  {
   "cell_type": "code",
   "execution_count": 124,
   "id": "e2a380a8",
   "metadata": {},
   "outputs": [
    {
     "data": {
      "text/html": [
       "<div>\n",
       "<style scoped>\n",
       "    .dataframe tbody tr th:only-of-type {\n",
       "        vertical-align: middle;\n",
       "    }\n",
       "\n",
       "    .dataframe tbody tr th {\n",
       "        vertical-align: top;\n",
       "    }\n",
       "\n",
       "    .dataframe thead th {\n",
       "        text-align: right;\n",
       "    }\n",
       "</style>\n",
       "<table border=\"1\" class=\"dataframe\">\n",
       "  <thead>\n",
       "    <tr style=\"text-align: right;\">\n",
       "      <th></th>\n",
       "      <th>symbol</th>\n",
       "      <th>open</th>\n",
       "      <th>close</th>\n",
       "    </tr>\n",
       "  </thead>\n",
       "  <tbody>\n",
       "    <tr>\n",
       "      <th>0</th>\n",
       "      <td>AAL</td>\n",
       "      <td>25.0700</td>\n",
       "      <td>52.03</td>\n",
       "    </tr>\n",
       "    <tr>\n",
       "      <th>1</th>\n",
       "      <td>AAPL</td>\n",
       "      <td>79.3828</td>\n",
       "      <td>169.23</td>\n",
       "    </tr>\n",
       "    <tr>\n",
       "      <th>2</th>\n",
       "      <td>AAP</td>\n",
       "      <td>110.3600</td>\n",
       "      <td>99.69</td>\n",
       "    </tr>\n",
       "    <tr>\n",
       "      <th>3</th>\n",
       "      <td>ABBV</td>\n",
       "      <td>52.1200</td>\n",
       "      <td>96.71</td>\n",
       "    </tr>\n",
       "    <tr>\n",
       "      <th>4</th>\n",
       "      <td>ABC</td>\n",
       "      <td>70.1100</td>\n",
       "      <td>91.82</td>\n",
       "    </tr>\n",
       "    <tr>\n",
       "      <th>...</th>\n",
       "      <td>...</td>\n",
       "      <td>...</td>\n",
       "      <td>...</td>\n",
       "    </tr>\n",
       "    <tr>\n",
       "      <th>478</th>\n",
       "      <td>XYL</td>\n",
       "      <td>34.3900</td>\n",
       "      <td>68.20</td>\n",
       "    </tr>\n",
       "    <tr>\n",
       "      <th>479</th>\n",
       "      <td>YUM</td>\n",
       "      <td>75.3800</td>\n",
       "      <td>81.61</td>\n",
       "    </tr>\n",
       "    <tr>\n",
       "      <th>480</th>\n",
       "      <td>ZBH</td>\n",
       "      <td>92.6300</td>\n",
       "      <td>120.67</td>\n",
       "    </tr>\n",
       "    <tr>\n",
       "      <th>481</th>\n",
       "      <td>ZION</td>\n",
       "      <td>29.9000</td>\n",
       "      <td>50.83</td>\n",
       "    </tr>\n",
       "    <tr>\n",
       "      <th>482</th>\n",
       "      <td>ZTS</td>\n",
       "      <td>32.5300</td>\n",
       "      <td>72.04</td>\n",
       "    </tr>\n",
       "  </tbody>\n",
       "</table>\n",
       "<p>483 rows × 3 columns</p>\n",
       "</div>"
      ],
      "text/plain": [
       "    symbol      open   close\n",
       "0      AAL   25.0700   52.03\n",
       "1     AAPL   79.3828  169.23\n",
       "2      AAP  110.3600   99.69\n",
       "3     ABBV   52.1200   96.71\n",
       "4      ABC   70.1100   91.82\n",
       "..     ...       ...     ...\n",
       "478    XYL   34.3900   68.20\n",
       "479    YUM   75.3800   81.61\n",
       "480    ZBH   92.6300  120.67\n",
       "481   ZION   29.9000   50.83\n",
       "482    ZTS   32.5300   72.04\n",
       "\n",
       "[483 rows x 3 columns]"
      ]
     },
     "execution_count": 124,
     "metadata": {},
     "output_type": "execute_result"
    }
   ],
   "source": [
    "df_total= df_open.merge(df_close, on='symbol')\n",
    "df_total"
   ]
  },
  {
   "cell_type": "code",
   "execution_count": 115,
   "id": "c93fc5d7",
   "metadata": {},
   "outputs": [
    {
     "data": {
      "text/html": [
       "<div>\n",
       "<style scoped>\n",
       "    .dataframe tbody tr th:only-of-type {\n",
       "        vertical-align: middle;\n",
       "    }\n",
       "\n",
       "    .dataframe tbody tr th {\n",
       "        vertical-align: top;\n",
       "    }\n",
       "\n",
       "    .dataframe thead th {\n",
       "        text-align: right;\n",
       "    }\n",
       "</style>\n",
       "<table border=\"1\" class=\"dataframe\">\n",
       "  <thead>\n",
       "    <tr style=\"text-align: right;\">\n",
       "      <th></th>\n",
       "      <th>symbol</th>\n",
       "      <th>open</th>\n",
       "      <th>close</th>\n",
       "      <th>percentage</th>\n",
       "    </tr>\n",
       "  </thead>\n",
       "  <tbody>\n",
       "    <tr>\n",
       "      <th>0</th>\n",
       "      <td>AAL</td>\n",
       "      <td>25.0700</td>\n",
       "      <td>52.03</td>\n",
       "      <td>107.538891</td>\n",
       "    </tr>\n",
       "    <tr>\n",
       "      <th>1</th>\n",
       "      <td>AAPL</td>\n",
       "      <td>79.3828</td>\n",
       "      <td>169.23</td>\n",
       "      <td>113.182201</td>\n",
       "    </tr>\n",
       "    <tr>\n",
       "      <th>2</th>\n",
       "      <td>AAP</td>\n",
       "      <td>110.3600</td>\n",
       "      <td>99.69</td>\n",
       "      <td>-9.668358</td>\n",
       "    </tr>\n",
       "    <tr>\n",
       "      <th>3</th>\n",
       "      <td>ABBV</td>\n",
       "      <td>52.1200</td>\n",
       "      <td>96.71</td>\n",
       "      <td>85.552571</td>\n",
       "    </tr>\n",
       "    <tr>\n",
       "      <th>4</th>\n",
       "      <td>ABC</td>\n",
       "      <td>70.1100</td>\n",
       "      <td>91.82</td>\n",
       "      <td>30.965625</td>\n",
       "    </tr>\n",
       "    <tr>\n",
       "      <th>...</th>\n",
       "      <td>...</td>\n",
       "      <td>...</td>\n",
       "      <td>...</td>\n",
       "      <td>...</td>\n",
       "    </tr>\n",
       "    <tr>\n",
       "      <th>478</th>\n",
       "      <td>XYL</td>\n",
       "      <td>34.3900</td>\n",
       "      <td>68.20</td>\n",
       "      <td>98.313463</td>\n",
       "    </tr>\n",
       "    <tr>\n",
       "      <th>479</th>\n",
       "      <td>YUM</td>\n",
       "      <td>75.3800</td>\n",
       "      <td>81.61</td>\n",
       "      <td>8.264792</td>\n",
       "    </tr>\n",
       "    <tr>\n",
       "      <th>480</th>\n",
       "      <td>ZBH</td>\n",
       "      <td>92.6300</td>\n",
       "      <td>120.67</td>\n",
       "      <td>30.270971</td>\n",
       "    </tr>\n",
       "    <tr>\n",
       "      <th>481</th>\n",
       "      <td>ZION</td>\n",
       "      <td>29.9000</td>\n",
       "      <td>50.83</td>\n",
       "      <td>70.000000</td>\n",
       "    </tr>\n",
       "    <tr>\n",
       "      <th>482</th>\n",
       "      <td>ZTS</td>\n",
       "      <td>32.5300</td>\n",
       "      <td>72.04</td>\n",
       "      <td>121.457117</td>\n",
       "    </tr>\n",
       "  </tbody>\n",
       "</table>\n",
       "<p>483 rows × 4 columns</p>\n",
       "</div>"
      ],
      "text/plain": [
       "    symbol      open   close  percentage\n",
       "0      AAL   25.0700   52.03  107.538891\n",
       "1     AAPL   79.3828  169.23  113.182201\n",
       "2      AAP  110.3600   99.69   -9.668358\n",
       "3     ABBV   52.1200   96.71   85.552571\n",
       "4      ABC   70.1100   91.82   30.965625\n",
       "..     ...       ...     ...         ...\n",
       "478    XYL   34.3900   68.20   98.313463\n",
       "479    YUM   75.3800   81.61    8.264792\n",
       "480    ZBH   92.6300  120.67   30.270971\n",
       "481   ZION   29.9000   50.83   70.000000\n",
       "482    ZTS   32.5300   72.04  121.457117\n",
       "\n",
       "[483 rows x 4 columns]"
      ]
     },
     "execution_count": 115,
     "metadata": {},
     "output_type": "execute_result"
    }
   ],
   "source": [
    "diff= (df_total['close']-df_total['open'])*100.0\n",
    "df_total['percentage']= diff/df_total['open']\n",
    "df_total"
   ]
  },
  {
   "cell_type": "code",
   "execution_count": 117,
   "id": "18904f56",
   "metadata": {},
   "outputs": [
    {
     "data": {
      "text/html": [
       "<div>\n",
       "<style scoped>\n",
       "    .dataframe tbody tr th:only-of-type {\n",
       "        vertical-align: middle;\n",
       "    }\n",
       "\n",
       "    .dataframe tbody tr th {\n",
       "        vertical-align: top;\n",
       "    }\n",
       "\n",
       "    .dataframe thead th {\n",
       "        text-align: right;\n",
       "    }\n",
       "</style>\n",
       "<table border=\"1\" class=\"dataframe\">\n",
       "  <thead>\n",
       "    <tr style=\"text-align: right;\">\n",
       "      <th></th>\n",
       "      <th>symbol</th>\n",
       "      <th>open</th>\n",
       "      <th>close</th>\n",
       "      <th>percentage</th>\n",
       "    </tr>\n",
       "  </thead>\n",
       "  <tbody>\n",
       "    <tr>\n",
       "      <th>330</th>\n",
       "      <td>NVDA</td>\n",
       "      <td>15.9200</td>\n",
       "      <td>193.50</td>\n",
       "      <td>1115.452261</td>\n",
       "    </tr>\n",
       "    <tr>\n",
       "      <th>51</th>\n",
       "      <td>AVGO</td>\n",
       "      <td>52.8500</td>\n",
       "      <td>256.90</td>\n",
       "      <td>386.092715</td>\n",
       "    </tr>\n",
       "    <tr>\n",
       "      <th>146</th>\n",
       "      <td>EA</td>\n",
       "      <td>22.9000</td>\n",
       "      <td>105.06</td>\n",
       "      <td>358.777293</td>\n",
       "    </tr>\n",
       "    <tr>\n",
       "      <th>25</th>\n",
       "      <td>ALGN</td>\n",
       "      <td>57.0600</td>\n",
       "      <td>222.19</td>\n",
       "      <td>289.397126</td>\n",
       "    </tr>\n",
       "    <tr>\n",
       "      <th>318</th>\n",
       "      <td>NFLX</td>\n",
       "      <td>52.4014</td>\n",
       "      <td>191.96</td>\n",
       "      <td>266.326091</td>\n",
       "    </tr>\n",
       "  </tbody>\n",
       "</table>\n",
       "</div>"
      ],
      "text/plain": [
       "    symbol     open   close   percentage\n",
       "330   NVDA  15.9200  193.50  1115.452261\n",
       "51    AVGO  52.8500  256.90   386.092715\n",
       "146     EA  22.9000  105.06   358.777293\n",
       "25    ALGN  57.0600  222.19   289.397126\n",
       "318   NFLX  52.4014  191.96   266.326091"
      ]
     },
     "execution_count": 117,
     "metadata": {},
     "output_type": "execute_result"
    }
   ],
   "source": [
    "df_total.nlargest(5,'percentage')"
   ]
  },
  {
   "cell_type": "code",
   "execution_count": 119,
   "id": "a6ef9195",
   "metadata": {},
   "outputs": [
    {
     "data": {
      "text/html": [
       "<div>\n",
       "<style scoped>\n",
       "    .dataframe tbody tr th:only-of-type {\n",
       "        vertical-align: middle;\n",
       "    }\n",
       "\n",
       "    .dataframe tbody tr th {\n",
       "        vertical-align: top;\n",
       "    }\n",
       "\n",
       "    .dataframe thead th {\n",
       "        text-align: right;\n",
       "    }\n",
       "</style>\n",
       "<table border=\"1\" class=\"dataframe\">\n",
       "  <thead>\n",
       "    <tr style=\"text-align: right;\">\n",
       "      <th></th>\n",
       "      <th>symbol</th>\n",
       "      <th>open</th>\n",
       "      <th>close</th>\n",
       "      <th>percentage</th>\n",
       "    </tr>\n",
       "  </thead>\n",
       "  <tbody>\n",
       "    <tr>\n",
       "      <th>90</th>\n",
       "      <td>CHK</td>\n",
       "      <td>27.07</td>\n",
       "      <td>3.96</td>\n",
       "      <td>-85.371260</td>\n",
       "    </tr>\n",
       "    <tr>\n",
       "      <th>385</th>\n",
       "      <td>RRC</td>\n",
       "      <td>83.13</td>\n",
       "      <td>17.06</td>\n",
       "      <td>-79.477926</td>\n",
       "    </tr>\n",
       "    <tr>\n",
       "      <th>131</th>\n",
       "      <td>DISCA</td>\n",
       "      <td>90.21</td>\n",
       "      <td>22.38</td>\n",
       "      <td>-75.191220</td>\n",
       "    </tr>\n",
       "    <tr>\n",
       "      <th>132</th>\n",
       "      <td>DISCK</td>\n",
       "      <td>83.22</td>\n",
       "      <td>21.17</td>\n",
       "      <td>-74.561404</td>\n",
       "    </tr>\n",
       "    <tr>\n",
       "      <th>283</th>\n",
       "      <td>MAT</td>\n",
       "      <td>47.57</td>\n",
       "      <td>15.38</td>\n",
       "      <td>-67.668699</td>\n",
       "    </tr>\n",
       "  </tbody>\n",
       "</table>\n",
       "</div>"
      ],
      "text/plain": [
       "    symbol   open  close  percentage\n",
       "90     CHK  27.07   3.96  -85.371260\n",
       "385    RRC  83.13  17.06  -79.477926\n",
       "131  DISCA  90.21  22.38  -75.191220\n",
       "132  DISCK  83.22  21.17  -74.561404\n",
       "283    MAT  47.57  15.38  -67.668699"
      ]
     },
     "execution_count": 119,
     "metadata": {},
     "output_type": "execute_result"
    }
   ],
   "source": [
    "df_total.nsmallest(5,'percentage')"
   ]
  }
 ],
 "metadata": {
  "kernelspec": {
   "display_name": "Python 3 (ipykernel)",
   "language": "python",
   "name": "python3"
  },
  "language_info": {
   "codemirror_mode": {
    "name": "ipython",
    "version": 3
   },
   "file_extension": ".py",
   "mimetype": "text/x-python",
   "name": "python",
   "nbconvert_exporter": "python",
   "pygments_lexer": "ipython3",
   "version": "3.9.12"
  }
 },
 "nbformat": 4,
 "nbformat_minor": 5
}
